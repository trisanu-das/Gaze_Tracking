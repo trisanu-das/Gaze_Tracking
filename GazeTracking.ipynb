{
 "cells": [
  {
   "cell_type": "code",
   "execution_count": 5,
   "id": "379ee437-bf27-498a-8636-e6cf3a797a29",
   "metadata": {},
   "outputs": [
    {
     "name": "stdout",
     "output_type": "stream",
     "text": [
      "Collecting pynput\n",
      "  Downloading pynput-1.7.7-py2.py3-none-any.whl.metadata (31 kB)\n",
      "Requirement already satisfied: six in c:\\users\\agm eb asl\\anaconda3\\lib\\site-packages (from pynput) (1.16.0)\n",
      "Downloading pynput-1.7.7-py2.py3-none-any.whl (90 kB)\n",
      "Installing collected packages: pynput\n",
      "Successfully installed pynput-1.7.7\n"
     ]
    }
   ],
   "source": [
    "!pip install pynput"
   ]
  },
  {
   "cell_type": "code",
   "execution_count": 11,
   "id": "e8f1e0f4-0cdb-41e9-aed8-ba7d1af1a2ed",
   "metadata": {},
   "outputs": [],
   "source": [
    "import cv2\n",
    "import numpy as np\n",
    "import mediapipe as mp\n",
    "\n",
    "class GazeTracker:\n",
    "    def __init__(self):\n",
    "        self.face_mesh = mp.solutions.face_mesh.FaceMesh(refine_landmarks=True)\n",
    "        self.drawing_utils = mp.solutions.drawing_utils\n",
    "        self.drawing_spec = mp.solutions.drawing_styles.get_default_face_mesh_tesselation_style()\n",
    "        self.eye_indices = {\n",
    "            'left': [362, 385, 387, 263, 373, 380],\n",
    "            'right': [33, 160, 158, 133, 153, 144]\n",
    "        }\n",
    "\n",
    "    def get_eye_aspect_ratio(self, eye_points):\n",
    "        A = np.linalg.norm(np.array(eye_points[1]) - np.array(eye_points[5]))\n",
    "        B = np.linalg.norm(np.array(eye_points[2]) - np.array(eye_points[4]))\n",
    "        C = np.linalg.norm(np.array(eye_points[0]) - np.array(eye_points[3]))\n",
    "        ear = (A + B) / (2.0 * C)\n",
    "        return ear\n",
    "\n",
    "    def get_pupil_position(self, eye_region):\n",
    "        gray_eye = cv2.cvtColor(eye_region, cv2.COLOR_BGR2GRAY)\n",
    "        gray_eye = cv2.GaussianBlur(gray_eye, (7, 7), 0)\n",
    "        _, threshold_eye = cv2.threshold(gray_eye, 30, 255, cv2.THRESH_BINARY_INV)\n",
    "        contours, _ = cv2.findContours(threshold_eye, cv2.RETR_TREE, cv2.CHAIN_APPROX_SIMPLE)\n",
    "        if contours:\n",
    "            max_contour = max(contours, key=cv2.contourArea)\n",
    "            M = cv2.moments(max_contour)\n",
    "            if M[\"m00\"] != 0:\n",
    "                cx = int(M[\"m10\"] / M[\"m00\"])\n",
    "                cy = int(M[\"m01\"] / M[\"m00\"])\n",
    "                return cx, cy\n",
    "        return None\n",
    "\n",
    "    def process_frame(self, frame):\n",
    "        rgb_frame = cv2.cvtColor(frame, cv2.COLOR_BGR2RGB)\n",
    "        results = self.face_mesh.process(rgb_frame)\n",
    "        if results.multi_face_landmarks:\n",
    "            for face_landmarks in results.multi_face_landmarks:\n",
    "                for eye in ['left', 'right']:\n",
    "                    eye_points = [(int(face_landmarks.landmark[i].x * frame.shape[1]),\n",
    "                                   int(face_landmarks.landmark[i].y * frame.shape[0]))\n",
    "                                  for i in self.eye_indices[eye]]\n",
    "                    \n",
    "                    # Draw eye landmarks\n",
    "                    for point in eye_points:\n",
    "                        cv2.circle(frame, point, 2, (0, 255, 0), -1)\n",
    "\n",
    "                    ear = self.get_eye_aspect_ratio(eye_points)\n",
    "                    blink_detected = ear < 0.2\n",
    "\n",
    "                    # Extract eye region for pupil detection\n",
    "                    x_min = min(p[0] for p in eye_points)\n",
    "                    x_max = max(p[0] for p in eye_points)\n",
    "                    y_min = min(p[1] for p in eye_points)\n",
    "                    y_max = max(p[1] for p in eye_points)\n",
    "                    eye_region = frame[y_min:y_max, x_min:x_max]\n",
    "                    \n",
    "                    pupil_position = self.get_pupil_position(eye_region)\n",
    "                    if pupil_position:\n",
    "                        pupil_x = pupil_position[0] + x_min\n",
    "                        pupil_y = pupil_position[1] + y_min\n",
    "                        cv2.circle(frame, (pupil_x, pupil_y), 3, (0, 0, 255), -1)\n",
    "\n",
    "                    # Display blink status\n",
    "                    status = \"Blinking\" if blink_detected else \"Not Blinking\"\n",
    "                    cv2.putText(frame, f\"{eye.capitalize()} Eye: {status}\", (x_min, y_min - 10),\n",
    "                                cv2.FONT_HERSHEY_SIMPLEX, 0.5, (255, 255, 255), 1)\n",
    "\n",
    "        return frame\n",
    "\n"
   ]
  },
  {
   "cell_type": "code",
   "execution_count": 10,
   "id": "f30ef20b-6d03-4740-8780-45f84e16fd5d",
   "metadata": {},
   "outputs": [],
   "source": [
    "import keyboard\n",
    "\n",
    "cap = cv2.VideoCapture(0)\n",
    "gaze_tracker = GazeTracker()\n",
    "while True:\n",
    "    ret, frame = cap.read()\n",
    "    if not ret:\n",
    "        break\n",
    "    if keyboard.is_pressed(\"a\"):\n",
    "        break\n",
    "    frame = gaze_tracker.process_frame(frame)\n",
    "    cv2.imshow('Gaze Tracker', frame)\n",
    "    if cv2.waitKey(1) & 0xFF == ord('q'):\n",
    "        break\n",
    "cap.release()\n",
    "cv2.destroyAllWindows()\n"
   ]
  },
  {
   "cell_type": "code",
   "execution_count": null,
   "id": "24946de2-c10f-431e-830d-74327ac728f3",
   "metadata": {},
   "outputs": [],
   "source": []
  }
 ],
 "metadata": {
  "kernelspec": {
   "display_name": "Python 3 (ipykernel)",
   "language": "python",
   "name": "python3"
  },
  "language_info": {
   "codemirror_mode": {
    "name": "ipython",
    "version": 3
   },
   "file_extension": ".py",
   "mimetype": "text/x-python",
   "name": "python",
   "nbconvert_exporter": "python",
   "pygments_lexer": "ipython3",
   "version": "3.12.7"
  }
 },
 "nbformat": 4,
 "nbformat_minor": 5
}
